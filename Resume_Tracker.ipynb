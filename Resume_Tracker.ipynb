{
  "nbformat": 4,
  "nbformat_minor": 0,
  "metadata": {
    "colab": {
      "provenance": []
    },
    "kernelspec": {
      "name": "python3",
      "display_name": "Python 3"
    },
    "language_info": {
      "name": "python"
    }
  },
  "cells": [
    {
      "cell_type": "code",
      "source": [
        "import pdfplumber\n",
        "import spacy\n",
        "import re\n",
        "\n",
        "nlp = spacy.load(\"en_core_web_sm\")\n",
        "\n",
        "pdf_path = \"/content/RESUME-DODDA JAYASRI.pdf\"\n",
        "\n",
        "def extract_text_from_pdf(pdf_file):\n",
        "    text = \"\"\n",
        "    with pdfplumber.open(pdf_file) as pdf:\n",
        "        for page in pdf.pages:\n",
        "            page_text = page.extract_text()\n",
        "            if page_text:\n",
        "                text += page_text + \"\\n\"\n",
        "    return text\n",
        "\n",
        "resume_text = extract_text_from_pdf(pdf_path)\n",
        "print(\"Extracted Text Sample:\\n\", resume_text[:500])\n",
        "doc = nlp(resume_text)\n",
        "\n",
        "name_candidate = None\n",
        "for ent in doc.ents:\n",
        "    if ent.label_ == \"PERSON\":\n",
        "        name_candidate = ent.text\n",
        "        break\n",
        "\n",
        "email = re.search(r\"[A-Za-z0-9._%+-]+@[A-Za-z0-9.-]+\\.[A-Za-z]{2,}\", resume_text)\n",
        "email = email.group(0) if email else None\n",
        "\n",
        "skills_list = [\n",
        "    \"Python\", \"Java\", \"C++\", \"JavaScript\", \"SQL\", \"React.js\", \"Node.js\",\n",
        "    \"Express.js\", \"MongoDB\", \"TensorFlow\", \"EfficientNet\", \"ResNet\",\n",
        "    \"Random Forest\", \"XGBoost\", \"Docker\", \"Firebase\", \"Figma\"\n",
        "]\n",
        "\n",
        "found_skills = [skill for skill in skills_list if skill.lower() in resume_text.lower()]\n",
        "\n",
        "degree = None\n",
        "institution = None\n",
        "\n",
        "degree_patterns = [\"B\\.Tech\", \"M\\.Tech\", \"Bachelors?\", \"Masters?\", \"Bachelor of\", \"Master of\"]\n",
        "for pattern in degree_patterns:\n",
        "    match = re.search(pattern, resume_text, re.IGNORECASE)\n",
        "    if match:\n",
        "        degree = match.group()\n",
        "        break\n",
        "\n",
        "institution_pattern = r\"(College|University|Institute)[^\\n]+\"\n",
        "inst_match = re.search(institution_pattern, resume_text)\n",
        "if inst_match:\n",
        "    institution = inst_match.group()\n",
        "\n",
        "experience_section = \"\"\n",
        "for line in resume_text.splitlines():\n",
        "    if \"intern\" in line.lower() or \"experience\" in line.lower():\n",
        "        experience_section += line + \"\\n\"\n",
        "\n",
        "structured_resume = {\n",
        "    \"Name\": name_candidate,\n",
        "    \"Email\": email,\n",
        "    \"Skills\": found_skills,\n",
        "    \"Degree\": degree,\n",
        "    \"Institution\": institution,\n",
        "    \"Work_Experience\": experience_section.strip()\n",
        "}\n",
        "\n",
        "import json\n",
        "print(\"\\nExtracted Structured Information:\\n\")\n",
        "print(json.dumps(structured_resume, indent=2))\n"
      ],
      "metadata": {
        "colab": {
          "base_uri": "https://localhost:8080/"
        },
        "id": "S4laetM3Jk3r",
        "outputId": "6a547956-bab7-4e50-c374-eb5321b03873"
      },
      "execution_count": 3,
      "outputs": [
        {
          "output_type": "stream",
          "name": "stderr",
          "text": [
            "WARNING:pdfminer.pdffont:Could get FontBBox from font descriptor because None cannot be parsed as 4 floats\n",
            "WARNING:pdfminer.pdffont:Could get FontBBox from font descriptor because None cannot be parsed as 4 floats\n",
            "WARNING:pdfminer.pdffont:Could get FontBBox from font descriptor because None cannot be parsed as 4 floats\n",
            "WARNING:pdfminer.pdffont:Could get FontBBox from font descriptor because None cannot be parsed as 4 floats\n",
            "WARNING:pdfminer.pdffont:Could get FontBBox from font descriptor because None cannot be parsed as 4 floats\n",
            "WARNING:pdfminer.pdffont:Could get FontBBox from font descriptor because None cannot be parsed as 4 floats\n",
            "WARNING:pdfminer.pdffont:Could get FontBBox from font descriptor because None cannot be parsed as 4 floats\n"
          ]
        },
        {
          "output_type": "stream",
          "name": "stdout",
          "text": [
            "Extracted Text Sample:\n",
            " DODDA JAYASRI\n",
            "B.Tech in Artificial Intelligence and Machine learnng\n",
            "Chennai , Tamil Nadu , 602105 | doddajayasri2482@gmail.com , +919059480589 |\n",
            "LinkedIn- https://www.linkedin.com/in/dodda-jayasri-996385271/\n",
            "SUMMARY\n",
            "Enthusiastic and detail-oriented undergraduate pursuing a degree in IT, eager to apply academic\n",
            "knowledge to real-world challenges. Skilled in programming, problem-solving, and teamwork, with a keen\n",
            "interest in software development and emerging technologies.\n",
            "TECHNICAL SKILLS\n",
            "Machine \n",
            "\n",
            "Extracted Structured Information:\n",
            "\n",
            "{\n",
            "  \"Name\": \"Tamil Nadu\",\n",
            "  \"Email\": \"doddajayasri2482@gmail.com\",\n",
            "  \"Skills\": [\n",
            "    \"Python\",\n",
            "    \"Java\"\n",
            "  ],\n",
            "  \"Degree\": \"B.Tech\",\n",
            "  \"Institution\": \"College,Chennai\",\n",
            "  \"Work_Experience\": \"\"\n",
            "}\n"
          ]
        }
      ]
    }
  ]
}